{
 "cells": [
  {
   "cell_type": "markdown",
   "id": "98c9ba23-de36-46f5-8413-4398d08e61dc",
   "metadata": {},
   "source": [
    "# Задача 1"
   ]
  },
  {
   "cell_type": "code",
   "execution_count": 200,
   "id": "6960428e-f59c-400d-8066-50f6cb708ae4",
   "metadata": {},
   "outputs": [],
   "source": [
    "import numpy as np\n",
    "from scipy import stats\n"
   ]
  },
  {
   "cell_type": "code",
   "execution_count": 201,
   "id": "08ca9808-fa72-47af-acd2-44f12c6e24e6",
   "metadata": {},
   "outputs": [],
   "source": [
    "data = np.array([12.9, 11.6, 13.5, 13.9, 12.1, 11.9, 13.0])\n",
    "\n"
   ]
  },
  {
   "cell_type": "markdown",
   "id": "84a782e6-4d55-4672-aee9-4058916d5262",
   "metadata": {},
   "source": [
    "Сначала проверим данные на нормальносить распределения"
   ]
  },
  {
   "cell_type": "code",
   "execution_count": 202,
   "id": "c4a45c1d-4a77-4abc-8e43-d7afb45c3f69",
   "metadata": {},
   "outputs": [
    {
     "name": "stdout",
     "output_type": "stream",
     "text": [
      "Статистика Шапиро-Уилка: 0.9461528332649155\n",
      "p-критерий: 0.694601251101445\n",
      "Данные распределены нормально, гипотеза о нормальности не отклоняется\n"
     ]
    }
   ],
   "source": [
    "stat, p_value = stats.shapiro(data)\n",
    "\n",
    "print(\"Статистика Шапиро-Уилка:\", stat)\n",
    "print(\"p-критерий:\", p_value)\n",
    "\n",
    "if p_value < 0.05:\n",
    "    print(\"Данные не распределены нормально, гипотеза о нормальности отвергается\")\n",
    "else:\n",
    "    print(\"Данные распределены нормально, гипотеза о нормальности не отвергается\")"
   ]
  },
  {
   "cell_type": "code",
   "execution_count": 203,
   "id": "8d1f1919-557a-4bf1-9e16-5d063ba61f09",
   "metadata": {},
   "outputs": [
    {
     "name": "stdout",
     "output_type": "stream",
     "text": [
      "Выборочное среднее: 12.700000000000001\n",
      "Выборочное стандартное отклонение: 0.8582928793055823\n",
      "t-статистика: 2.15780179749788\n",
      "Критическое значение t: 2.4469118511449692\n",
      "Нулевая гипотеза не отвергается, среднее напряжение не отличается от 12 В\n"
     ]
    }
   ],
   "source": [
    "\n",
    "mu_0 = 12 # номинальное значне напряжения)\n",
    "\n",
    "\n",
    "x_m = np.mean(data) # выборочное среднее\n",
    "\n",
    "s = np.std(data, ddof=1) # выборочное стандартное отклонение\n",
    "\n",
    "t_stat = (x_m - mu_0) / (s / np.sqrt(len(data))) # t-статистика\n",
    "\n",
    "df = len(data) - 1 # количество степеней свободы\n",
    "\n",
    "alpha = 0.05\n",
    "t_critical = stats.t.ppf(1 - alpha/2, df) # критическое значение t для двустороннего теста с уровнем значимости 0.05\n",
    "\n",
    "print(\"Выборочное среднее:\", x_m)\n",
    "print(\"Выборочное стандартное отклонение:\", s)\n",
    "print(\"t-статистика:\", t_stat)\n",
    "print(\"Критическое значение t:\", t_critical)\n",
    "\n",
    "p_value = 2 * (1 - stats.t.cdf(abs(t_stat), df))\n",
    "if p_value < alpha:\n",
    "    print(\"Нулевая гипотеза отвергается, среднее напряжение отличается от 12 В\")\n",
    "else:\n",
    "    print(\"Нулевая гипотеза не отвергается, среднее напряжение не отличается от 12 В\")\n"
   ]
  },
  {
   "cell_type": "markdown",
   "id": "371b5e3e-a0f5-4fad-8419-ba245d02fb2a",
   "metadata": {},
   "source": [
    "## Вывод: можно считать, что среднее напряжение равно 12 В при уровне значимости 0.05."
   ]
  },
  {
   "cell_type": "markdown",
   "id": "ea7c3fef-f983-4720-b165-e240ec0dfbda",
   "metadata": {},
   "source": [
    "# Задача 2"
   ]
  },
  {
   "cell_type": "code",
   "execution_count": 204,
   "id": "45b73963-87f4-43b2-b9df-7c5264b49253",
   "metadata": {},
   "outputs": [],
   "source": [
    "data_1 = np.array([23.1, 23.2, 26.5, 26.6, 27.1, 48.3, 40.5, 25.0, 38.4, 23.5]) # данные для 1 метода\n",
    "data_2 = np.array([22.7, 23.6, 27.1, 27.4, 27.4, 46.8, 40.4, 24.9, 38.1, 23.8]) # данные для 2 метода\n",
    "\n",
    "deltas = data_1 - data_2 # вычисляем разности между даннми для двух методов"
   ]
  },
  {
   "cell_type": "markdown",
   "id": "0a6891ef-ace4-4008-8386-6569a4205059",
   "metadata": {},
   "source": [
    "Проверим нормальность распределения данных:"
   ]
  },
  {
   "cell_type": "code",
   "execution_count": 205,
   "id": "c884b831-afa9-4343-8923-50b18dd0f62a",
   "metadata": {},
   "outputs": [
    {
     "name": "stdout",
     "output_type": "stream",
     "text": [
      "Статистика Шапиро-Уилка: 0.8998483579792755\n",
      "p-value: 0.07430190210562304\n",
      "Данные распределены нормально, гипотеза о нормальности не отклоняется\n"
     ]
    }
   ],
   "source": [
    "stat, p_value_normality = stats.shapiro(deltas)\n",
    "print(\"Статистика Шапиро-Уилка:\", stat)\n",
    "print(\"p-value:\", p_value)\n",
    "\n",
    "if p_value < 0.05:\n",
    "    print(\"Данные не распределены нормально, гипотеза о нормальности отклоняется\")\n",
    "else:\n",
    "    print(\"Данные распределены нормально, гипотеза о нормальности не отклоняется\")"
   ]
  },
  {
   "cell_type": "code",
   "execution_count": 206,
   "id": "afacbd63-5557-4b8c-a10c-c30d1c1b683d",
   "metadata": {},
   "outputs": [
    {
     "name": "stdout",
     "output_type": "stream",
     "text": [
      "Результаты парного t-теста:\n",
      "t-статистика: 1.7154884978678027e-15\n",
      "p-value: 0.9999999999999987\n",
      "Нулевая гипотеза не отвергается: нет статистически значимой разницы между методами\n"
     ]
    }
   ],
   "source": [
    "t_stat, p_value_ttest = stats.ttest_1samp(deltas, 0)\n",
    "\n",
    "print(\"Результаты парного t-теста:\")\n",
    "print(\"t-статистика:\", t_stat)\n",
    "print(\"p-value:\", p_value_ttest)\n",
    "\n",
    "alpha = 0.05\n",
    "if p_value_ttest < alpha:\n",
    "    print(\"Нулевая гипотеза отвергается: один метод дает в среднем более высокие показания, чем другой\")\n",
    "else:\n",
    "    print(\"Нулевая гипотеза не отвергается: нет статистически значимой разницы между методами\")"
   ]
  },
  {
   "cell_type": "markdown",
   "id": "409a864e-203f-404f-ba23-371c9b714d05",
   "metadata": {},
   "source": [
    "## Вывод: один метод не даёт в среднем более высокие показания, чем другой, при уровне значимости 0.05."
   ]
  },
  {
   "cell_type": "markdown",
   "id": "86d4eca2-c2b3-4072-839b-fb60b83e5cfd",
   "metadata": {},
   "source": [
    "# Задача 3"
   ]
  },
  {
   "cell_type": "code",
   "execution_count": 207,
   "id": "35f03e6b-cecd-412a-ac71-68630c2e2199",
   "metadata": {},
   "outputs": [],
   "source": [
    "townspeople = np.array([132, 111, 119, 138, 200, 131, 138, 170, 159, 140])\n",
    "villagers = np.array([115, 190, 127, 155, 148, 121, 116, 121, 197])"
   ]
  },
  {
   "cell_type": "markdown",
   "id": "442d7955-ae3f-455e-84b3-77dac2c11101",
   "metadata": {},
   "source": [
    "Проверим данные на нормальность для выборок горожан и селян"
   ]
  },
  {
   "cell_type": "code",
   "execution_count": 208,
   "id": "db763595-e3f7-4a87-9186-a36c5079d241",
   "metadata": {},
   "outputs": [
    {
     "name": "stdout",
     "output_type": "stream",
     "text": [
      "p-значение для горожан (через Шапиро-Уилка): 0.281\n",
      "p-значение для сельчан (через Шапиро-Уилка): 0.043\n",
      "Данные горожан можно считать нормально распределёнными.\n",
      "Данные сельчан не распределены нормально.\n"
     ]
    }
   ],
   "source": [
    "stat_townspeople, p_value_townspeople = stats.shapiro(townspeople)\n",
    "stat_villagers, p_value_villagers = stats.shapiro(villagers)\n",
    "\n",
    "print(f\"p-значение для горожан (через Шапиро-Уилка): {p_value_townspeople:.3f}\")\n",
    "print(f\"p-значение для сельчан (через Шапиро-Уилка): {p_value_villagers:.3f}\")\n",
    "\n",
    "alpha = 0.05\n",
    "if p_value_townspeople > alpha:\n",
    "    print(\"Данные горожан можно считать нормально распределёнными.\")\n",
    "else:\n",
    "    print(\"Данные горожан не распределены нормально.\")\n",
    "\n",
    "if p_value_villagers > alpha:\n",
    "    print(\"Данные сельчан можно считать нормально распределёнными.\")\n",
    "else:\n",
    "    print(\"Данные сельчан не распределены нормально.\")"
   ]
  },
  {
   "cell_type": "code",
   "execution_count": 209,
   "id": "599bf2e7-a032-45ca-92f2-b9e0e6c76cb7",
   "metadata": {},
   "outputs": [
    {
     "name": "stdout",
     "output_type": "stream",
     "text": [
      "t-статистика: 0.035165199049777565\n",
      "p-значение: 0.486178812200461\n",
      "Нулевая гипотеза не отвергается,  нет статистически значимой разницы между систолическим давлением у горожан и сельчан.\n"
     ]
    }
   ],
   "source": [
    "t_stat, p_value = stats.ttest_ind(townspeople, villagers, alternative='greater')\n",
    "\n",
    "print(\"t-статистика:\", t_stat)\n",
    "print(\"p-значение:\", p_value)\n",
    "\n",
    "alpha = 0.05\n",
    "if p_value < alpha:\n",
    "    print(\"Нулевая гипотеза отвергается,  жители городов имеют в среднем более высокое систолическое давление.\")\n",
    "else:\n",
    "    print(\"Нулевая гипотеза не отвергается,  нет статистически значимой разницы между систолическим давлением у горожан и сельчан.\")"
   ]
  },
  {
   "cell_type": "markdown",
   "id": "5c29f2a1-c53a-4147-88fb-42250e87fe0e",
   "metadata": {},
   "source": [
    "## Вывод: на уровне значимости 0.05 мы не отвергаем нулевую гипотезу, которая утверждает, что средние систолические давления у горожан и сельчан одинаковы."
   ]
  },
  {
   "cell_type": "markdown",
   "id": "818440e4-cfe7-4c81-b7e8-17c6dd9f4ca3",
   "metadata": {},
   "source": [
    "# Задача 4\n",
    "\n",
    "Для того, чтобы решить эту задачу воспользуемся z-критерием для двух пропорций. Мы будем проверять, есть ли статистически значимая разница между пропорциями мужчин и женщин в выборке, и можем ли мы утверждать, что пропорции одинаковы."
   ]
  },
  {
   "cell_type": "code",
   "execution_count": 210,
   "id": "60162db8-005c-485a-a731-125e9e3c140b",
   "metadata": {},
   "outputs": [
    {
     "name": "stdout",
     "output_type": "stream",
     "text": [
      "Z-статистика: 2.828\n",
      "p-значение: 0.005\n",
      "Нулевая гипотеза отвергается, смертность среди мужчин и женщин различна.\n"
     ]
    }
   ],
   "source": [
    "import math\n",
    "\n",
    "n_total = 5000\n",
    "n_men = 2500\n",
    "n_women = 2500\n",
    "\n",
    "# пропорции для мужчин и женщин\n",
    "men_proportion = 0.52\n",
    "women_proportion = 0.48\n",
    "\n",
    "p = (n_men * men_proportion + n_women * women_proportion) / n_total # общая пропорция\n",
    "std_error = math.sqrt(p * (1 - p) * (1 / n_men + 1 / n_women)) # вычисляем стандартную ошибку\n",
    "\n",
    "z_stat = (men_proportion - women_proportion) / std_error # Z-статистика\n",
    "p_value = 2 * (1 - stats.norm.cdf(abs(z_stat))) # p-значение для двустороннего теста\n",
    "\n",
    "print(f\"Z-статистика: {z_stat:.3f}\")\n",
    "print(f\"p-значение: {p_value:.3f}\")\n",
    "\n",
    "alpha = 0.05\n",
    "if p_value < alpha:\n",
    "    print(\"Нулевая гипотеза отвергается, смертность среди мужчин и женщин различна.\")\n",
    "else:\n",
    "    print(\"Нулевая гипотеза не отвергается, смертность среди мужчин и женщин одинаковая.\")\n"
   ]
  },
  {
   "cell_type": "markdown",
   "id": "8508412e-abb7-4bcd-9d49-6b912c821b63",
   "metadata": {},
   "source": [
    "## Вывод: на уровне значимости 0.05 имеется статистически значимая разница между смертностью среди мужчин и женщин."
   ]
  },
  {
   "cell_type": "markdown",
   "id": "5f23d11a-e259-4145-84ad-1a189dd7b2e4",
   "metadata": {},
   "source": [
    "# Задача 5\n",
    "\n",
    "Причина таких результатов заключается в стандартном отклонение) и размере выборки. Хотя разница между средними во втором эксперименте значительно больше, высокая вариабельность данных или достаточно большие выборки могут сделать эту разницу статистически незначимой. В первом эксперименте, возможно, разница между средними была маленькой, но низкая вариабельность или малый размер выборки привели к значимому p-значению."
   ]
  }
 ],
 "metadata": {
  "kernelspec": {
   "display_name": "Python 3 (ipykernel)",
   "language": "python",
   "name": "python3"
  },
  "language_info": {
   "codemirror_mode": {
    "name": "ipython",
    "version": 3
   },
   "file_extension": ".py",
   "mimetype": "text/x-python",
   "name": "python",
   "nbconvert_exporter": "python",
   "pygments_lexer": "ipython3",
   "version": "3.12.4"
  }
 },
 "nbformat": 4,
 "nbformat_minor": 5
}
